{
 "cells": [
  {
   "cell_type": "code",
   "execution_count": 2,
   "metadata": {
    "collapsed": false
   },
   "outputs": [],
   "source": [
    "import urllib\n",
    "import simplejson\n",
    "\n",
    "googleGeocodeUrl = 'http://maps.googleapis.com/maps/api/geocode/json?'\n",
    "\n",
    "def get_coordinates(query, from_sensor=False):\n",
    "    query = query.encode('utf-8')\n",
    "    params = {\n",
    "        'address': query,\n",
    "        'sensor': \"true\" if from_sensor else \"false\"\n",
    "    }\n",
    "    url = googleGeocodeUrl + urllib.urlencode(params)\n",
    "    json_response = urllib.urlopen(url)\n",
    "    response = simplejson.loads(json_response.read())\n",
    "    if response['results']:\n",
    "        location = response['results'][0]['geometry']['location']\n",
    "        latitude, longitude = location['lat'], location['lng']\n",
    "        print query, latitude, longitude\n",
    "    else:\n",
    "        latitude, longitude = None, None\n",
    "        print query, \"<no results>\"\n",
    "    return latitude, longitude"
   ]
  },
  {
   "cell_type": "code",
   "execution_count": null,
   "metadata": {
    "collapsed": true
   },
   "outputs": [],
   "source": []
  }
 ],
 "metadata": {
  "kernelspec": {
   "display_name": "Python 2",
   "language": "python",
   "name": "python2"
  },
  "language_info": {
   "codemirror_mode": {
    "name": "ipython",
    "version": 2
   },
   "file_extension": ".py",
   "mimetype": "text/x-python",
   "name": "python",
   "nbconvert_exporter": "python",
   "pygments_lexer": "ipython2",
   "version": "2.7.10"
  }
 },
 "nbformat": 4,
 "nbformat_minor": 0
}
