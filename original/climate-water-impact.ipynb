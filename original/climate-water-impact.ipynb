{
 "cells": [
  {
   "cell_type": "markdown",
   "metadata": {
    "slideshow": {
     "slide_type": "slide"
    }
   },
   "source": [
    "## Title: \" Exploring landslide severity across Washington using machine learning techniques\"\n",
    "### Erich Seamon\n",
    "### erichs@uidaho.edu\n",
    "### http://webpages.uidaho.edu/erichs"
   ]
  },
  {
   "cell_type": "markdown",
   "metadata": {
    "collapsed": true,
    "slideshow": {
     "slide_type": "slide"
    }
   },
   "source": [
    "\n",
    "# Introduction and Overview of Dataset\n",
    "\n",
    "\n",
    "The premise of this research will be to develop a set of models that effectively predict landslide severity, within the state of Washington, using geomorphic and landscape-driven feature variables, such as geology, soils, gradient, land-use, and previous landslide type.   <br>\n",
    "\n",
    "Previous work by Ardizzone et al (2002), Ayalew and Yamagishi (2005), Ohlmacher and David (2003), all used logistical regression as a classifer method for landslide analysis. To expand upon this work, this project will evaluate several differing models to predict landslide severity:<br>\n",
    "\n",
    "- logistical regression <br> \n",
    "- naive bayes <br>\n",
    "- knn <br>\n",
    "- random forest <br>\n",
    "- decision tree <br>\n",
    "- bagged decision tree <br>\n",
    "- bagged random forest <br>\n"
   ]
  },
  {
   "cell_type": "markdown",
   "metadata": {
    "slideshow": {
     "slide_type": "subslide"
    }
   },
   "source": [
    "Under this approach, landslide explanatory variables will be trained on a training data set of an observed landslide locations, with thematic data such as morphometric attributes (gradient, slope morphology) as well as information on geology and landuse. \n",
    "\n",
    "The eventual goal will be to create a landslide model that is capable of returning a predictive result in the form of a geographic mapspace (essentially a prediction for each pixel)."
   ]
  },
  {
   "cell_type": "markdown",
   "metadata": {
    "slideshow": {
     "slide_type": "slide"
    }
   },
   "source": [
    "## Data Sources\n",
    "\n",
    "2007 and 2008 Landslide data for the state of Washington, containing over 52,000 observations, was accessed from the Washington Department of Natural Recreation (WA DNR). The data was provided as a downloadable .gdb file (geodatabase file).\n",
    "\n",
    "http://www.dnr.wa.gov/publications/ger_portal_landslides_landforms.zip\n"
   ]
  },
  {
   "cell_type": "markdown",
   "metadata": {
    "slideshow": {
     "slide_type": "slide"
    }
   },
   "source": [
    "## Data Transformation Before Analysis\n",
    "\n",
    "The data was imported as a csv file - that was derived from the provided geodatabase file.  This csv file contained over 52,000 observations, with latitude and longitude included as well.  The csv file was transformed into a a pandas data frame, with text based categorical fields transformed to numeric values.  From this pandas data frame, our feature columns (X) and our response variable (y) were derived.\n",
    "\n",
    "From the 52,000+ landslide observations, the number was reduced to:\n",
    "\n",
    "#### 12,241\n",
    "\n",
    "After eliminating records with NANs and other missing values needed for the analysis."
   ]
  },
  {
   "cell_type": "code",
   "execution_count": 1,
   "metadata": {
    "collapsed": true
   },
   "outputs": [],
   "source": [
    "import PIL\n",
    "from scipy import stats\n",
    "import os,sys\n",
    "import numpy as np\n",
    "from PIL import Image\n",
    "from urllib2 import urlopen"
   ]
  },
  {
   "cell_type": "markdown",
   "metadata": {
    "slideshow": {
     "slide_type": "slide"
    }
   },
   "source": [
    "## Response and Feature Variables:"
   ]
  },
  {
   "cell_type": "markdown",
   "metadata": {
    "slideshow": {
     "slide_type": "fragment"
    }
   },
   "source": [
    "### Morphometric feature variables:\n",
    "\n",
    "1) Slope Morphology Shape (SLOPE_MORP)   - Planar, Convex, Concave, etc. <br>\n",
    "2) Land Use (LAND_USE)   - Forestry, Road/Rail/Trail, Undistubed, Urban Development <br>\n",
    "3) Landslide Type (LANDSLIDE1)   - Debris Flows, Debris Slides and Avalanches, Shallow Undifferentiated, etc.<br>\n",
    "4) Gradient (GRADIENT_D - transformed to gradient_cat)  - gradient of the landslide location, in degrees.<br>\n",
    "5) Geology (GEOLOGIC_1) - geologic unit <br>\n",
    "6) Soils (reacch_soi) - soils <br>\n",
    "\n",
    "### Response Variable:\n",
    "\n",
    "1) Landslide Severity (LANDSLID_3) - Low (0), Med (1) or High (2). <br>"
   ]
  },
  {
   "cell_type": "markdown",
   "metadata": {
    "slideshow": {
     "slide_type": "subslide"
    }
   },
   "source": [
    "Multiclass classification means a classification task with more than two classes. Multiclass classification makes the assumption that each sample is assigned to one and only one label."
   ]
  },
  {
   "cell_type": "markdown",
   "metadata": {
    "slideshow": {
     "slide_type": "slide"
    }
   },
   "source": [
    "# Preliminary Data Import and Analysis"
   ]
  },
  {
   "cell_type": "code",
   "execution_count": 3,
   "metadata": {
    "collapsed": false,
    "slideshow": {
     "slide_type": "skip"
    }
   },
   "outputs": [
    {
     "name": "stdout",
     "output_type": "stream",
     "text": [
      "The memory_profiler extension is already loaded. To reload it, use:\n",
      "  %reload_ext memory_profiler\n"
     ]
    }
   ],
   "source": [
    "import matplotlib\n",
    "%matplotlib nbagg\n",
    "\n",
    "from pyproj import Proj\n",
    "import StringIO\n",
    "from pandas import DataFrame\n",
    "import pandas as pd\n",
    "import seaborn as sns\n",
    "import pydot\n",
    "from IPython.display import Image\n",
    "\n",
    "from urllib2 import Request, urlopen\n",
    "import json\n",
    "from pandas.io.json import json_normalize\n",
    "import numpy\n",
    "from sklearn.cross_validation import cross_val_score\n",
    "from sklearn.cross_validation import train_test_split\n",
    "from sklearn.cross_validation import KFold\n",
    "import math\n",
    "from sklearn.tree import DecisionTreeClassifier\n",
    "from sklearn.ensemble import BaggingClassifier\n",
    "import matplotlib.pyplot as plt\n",
    "from sklearn.metrics import roc_curve, auc\n",
    "from sklearn.multiclass import OneVsRestClassifier\n",
    "%load_ext memory_profiler\n",
    "from sklearn.ensemble import RandomForestClassifier"
   ]
  },
  {
   "cell_type": "markdown",
   "metadata": {
    "slideshow": {
     "slide_type": "fragment"
    }
   },
   "source": [
    "## Import csv file for all 52,000+WA landslides"
   ]
  },
  {
   "cell_type": "code",
   "execution_count": 4,
   "metadata": {
    "collapsed": true,
    "slideshow": {
     "slide_type": "skip"
    }
   },
   "outputs": [],
   "source": [
    "import csv"
   ]
  },
  {
   "cell_type": "code",
   "execution_count": 6,
   "metadata": {
    "collapsed": false,
    "slideshow": {
     "slide_type": "skip"
    }
   },
   "outputs": [],
   "source": [
    "walandslides_all = pd.read_csv('http://dmine.io/data/landslides/WALandslides_export4.csv')"
   ]
  },
  {
   "cell_type": "code",
   "execution_count": 10,
   "metadata": {
    "collapsed": false,
    "slideshow": {
     "slide_type": "fragment"
    }
   },
   "outputs": [
    {
     "name": "stderr",
     "output_type": "stream",
     "text": [
      "/usr/local/lib/python2.7/site-packages/pandas/io/parsers.py:1170: DtypeWarning: Columns (11,12,16) have mixed types. Specify dtype option on import or set low_memory=False.\n",
      "  data = self._reader.read(nrows)\n"
     ]
    }
   ],
   "source": [
    "walandslides = pd.read_csv('http://dmine.io/data/landslides/WALandslides.csv')"
   ]
  },
  {
   "cell_type": "markdown",
   "metadata": {
    "slideshow": {
     "slide_type": "skip"
    }
   },
   "source": [
    "## Table of all values for initial landslide dataset"
   ]
  },
  {
   "cell_type": "code",
   "execution_count": 11,
   "metadata": {
    "collapsed": false,
    "slideshow": {
     "slide_type": "skip"
    }
   },
   "outputs": [],
   "source": [
    "walandslides_allxy = [walandslides_all.OBJECTID, walandslides_all.POINT_X, walandslides_all.POINT_Y]\n",
    "walandslides_allxy = pd.DataFrame(walandslides_allxy)\n",
    "walandslides_allxy = walandslides_allxy.transpose()\n",
    "walandslides = pd.DataFrame(walandslides)\n",
    "walandslides = pd.merge(walandslides_allxy, walandslides, on='OBJECTID', how='outer')"
   ]
  },
  {
   "cell_type": "markdown",
   "metadata": {
    "slideshow": {
     "slide_type": "slide"
    }
   },
   "source": [
    "## Set landslide type as numeric"
   ]
  },
  {
   "cell_type": "code",
   "execution_count": 12,
   "metadata": {
    "collapsed": true,
    "slideshow": {
     "slide_type": "fragment"
    }
   },
   "outputs": [],
   "source": [
    "stringh1 = set(walandslides.LANDSLIDE1)\n",
    "J = list(stringh1)\n",
    "J2 = list(range(1, 106))"
   ]
  },
  {
   "cell_type": "code",
   "execution_count": 13,
   "metadata": {
    "collapsed": false,
    "slideshow": {
     "slide_type": "fragment"
    }
   },
   "outputs": [],
   "source": [
    "i2 = iter(J)\n",
    "j2 = iter(J2)\n",
    "k2 = list(zip(i2, j2))\n",
    "kdict2 = dict(k2)\n",
    "kdict2.values()\n",
    "walandslides['LANDSLIDE1'].replace(kdict2, inplace=True)\n",
    "#print walandslides.LANDSLIDE1"
   ]
  },
  {
   "cell_type": "markdown",
   "metadata": {
    "slideshow": {
     "slide_type": "slide"
    }
   },
   "source": [
    "## Convert categorical text columns to categorical numerical"
   ]
  },
  {
   "cell_type": "code",
   "execution_count": 14,
   "metadata": {
    "collapsed": false,
    "slideshow": {
     "slide_type": "fragment"
    }
   },
   "outputs": [],
   "source": [
    "walandslides['DATA_CONFI'] = walandslides.DATA_CONFI.map({'Low':0, 'Moderate-High':1})\n",
    "walandslides['SLOPE_MORP'] = walandslides.SLOPE_MORP.map({'Planar':0, 'Concave-Planar':1, 'Concave, convergent':2, 'Planar-Concave':3, 'Planar-convex':4})\n",
    "walandslides['LANDSLID_3'] = walandslides.LANDSLID_3.map({'Questionable':0, 'Probable':1, 'Certain':2, 'Unknown':3})"
   ]
  },
  {
   "cell_type": "markdown",
   "metadata": {
    "slideshow": {
     "slide_type": "slide"
    }
   },
   "source": [
    "## Reduce dataset by eliminating NANs, set feature columns for X"
   ]
  },
  {
   "cell_type": "code",
   "execution_count": 15,
   "metadata": {
    "collapsed": false,
    "slideshow": {
     "slide_type": "fragment"
    }
   },
   "outputs": [],
   "source": [
    "walandslides = walandslides[np.isfinite(walandslides['SLOPE_MORP'])]\n",
    "walandslides = walandslides[np.isfinite(walandslides['LANDSLIDE1'])]\n",
    "walandslides = walandslides[walandslides.LANDSLID_3 != 3]\n",
    "walandslides = walandslides[walandslides.GRADIENT_D != 0]\n",
    "feature_cols = ['gradient_cat', 'GEOLOGIC_1', 'reacch_soi', 'LAND_USE', 'LANDSLIDE1', 'SLOPE_MORP']"
   ]
  },
  {
   "cell_type": "markdown",
   "metadata": {
    "slideshow": {
     "slide_type": "slide"
    }
   },
   "source": [
    "## Convert GRADIENT_D to categorical, using quantiles"
   ]
  },
  {
   "cell_type": "code",
   "execution_count": 16,
   "metadata": {
    "collapsed": true,
    "slideshow": {
     "slide_type": "fragment"
    }
   },
   "outputs": [],
   "source": [
    "labelz = [\"1\", \"2\", \"3\", \"4\", \"5\"]\n",
    "gradient = pd.DataFrame(walandslides.GRADIENT_D)\n",
    "gradient = pd.DataFrame(pd.qcut(walandslides.GRADIENT_D, 5, labels = labelz))\n",
    "gradient.rename(columns={'GRADIENT_D':'gradient_cat'}, inplace=True)\n",
    "walandslides = pd.concat([walandslides, gradient], axis=1, join_axes=[gradient.index])"
   ]
  },
  {
   "cell_type": "markdown",
   "metadata": {
    "slideshow": {
     "slide_type": "slide"
    }
   },
   "source": [
    "## Plot the refined WA landslides (~12000 landslide observations)"
   ]
  },
  {
   "cell_type": "code",
   "execution_count": 17,
   "metadata": {
    "collapsed": false,
    "slideshow": {
     "slide_type": "fragment"
    }
   },
   "outputs": [
    {
     "data": {
      "application/javascript": [
       "/* Put everything inside the global mpl namespace */\n",
       "window.mpl = {};\n",
       "\n",
       "mpl.get_websocket_type = function() {\n",
       "    if (typeof(WebSocket) !== 'undefined') {\n",
       "        return WebSocket;\n",
       "    } else if (typeof(MozWebSocket) !== 'undefined') {\n",
       "        return MozWebSocket;\n",
       "    } else {\n",
       "        alert('Your browser does not have WebSocket support.' +\n",
       "              'Please try Chrome, Safari or Firefox ≥ 6. ' +\n",
       "              'Firefox 4 and 5 are also supported but you ' +\n",
       "              'have to enable WebSockets in about:config.');\n",
       "    };\n",
       "}\n",
       "\n",
       "mpl.figure = function(figure_id, websocket, ondownload, parent_element) {\n",
       "    this.id = figure_id;\n",
       "\n",
       "    this.ws = websocket;\n",
       "\n",
       "    this.supports_binary = (this.ws.binaryType != undefined);\n",
       "\n",
       "    if (!this.supports_binary) {\n",
       "        var warnings = document.getElementById(\"mpl-warnings\");\n",
       "        if (warnings) {\n",
       "            warnings.style.display = 'block';\n",
       "            warnings.textContent = (\n",
       "                \"This browser does not support binary websocket messages. \" +\n",
       "                    \"Performance may be slow.\");\n",
       "        }\n",
       "    }\n",
       "\n",
       "    this.imageObj = new Image();\n",
       "\n",
       "    this.context = undefined;\n",
       "    this.message = undefined;\n",
       "    this.canvas = undefined;\n",
       "    this.rubberband_canvas = undefined;\n",
       "    this.rubberband_context = undefined;\n",
       "    this.format_dropdown = undefined;\n",
       "\n",
       "    this.image_mode = 'full';\n",
       "\n",
       "    this.root = $('<div/>');\n",
       "    this._root_extra_style(this.root)\n",
       "    this.root.attr('style', 'display: inline-block');\n",
       "\n",
       "    $(parent_element).append(this.root);\n",
       "\n",
       "    this._init_header(this);\n",
       "    this._init_canvas(this);\n",
       "    this._init_toolbar(this);\n",
       "\n",
       "    var fig = this;\n",
       "\n",
       "    this.waiting = false;\n",
       "\n",
       "    this.ws.onopen =  function () {\n",
       "            fig.send_message(\"supports_binary\", {value: fig.supports_binary});\n",
       "            fig.send_message(\"send_image_mode\", {});\n",
       "            fig.send_message(\"refresh\", {});\n",
       "        }\n",
       "\n",
       "    this.imageObj.onload = function() {\n",
       "            if (fig.image_mode == 'full') {\n",
       "                // Full images could contain transparency (where diff images\n",
       "                // almost always do), so we need to clear the canvas so that\n",
       "                // there is no ghosting.\n",
       "                fig.context.clearRect(0, 0, fig.canvas.width, fig.canvas.height);\n",
       "            }\n",
       "            fig.context.drawImage(fig.imageObj, 0, 0);\n",
       "            fig.waiting = false;\n",
       "        };\n",
       "\n",
       "    this.imageObj.onunload = function() {\n",
       "        this.ws.close();\n",
       "    }\n",
       "\n",
       "    this.ws.onmessage = this._make_on_message_function(this);\n",
       "\n",
       "    this.ondownload = ondownload;\n",
       "}\n",
       "\n",
       "mpl.figure.prototype._init_header = function() {\n",
       "    var titlebar = $(\n",
       "        '<div class=\"ui-dialog-titlebar ui-widget-header ui-corner-all ' +\n",
       "        'ui-helper-clearfix\"/>');\n",
       "    var titletext = $(\n",
       "        '<div class=\"ui-dialog-title\" style=\"width: 100%; ' +\n",
       "        'text-align: center; padding: 3px;\"/>');\n",
       "    titlebar.append(titletext)\n",
       "    this.root.append(titlebar);\n",
       "    this.header = titletext[0];\n",
       "}\n",
       "\n",
       "\n",
       "\n",
       "mpl.figure.prototype._canvas_extra_style = function(canvas_div) {\n",
       "\n",
       "}\n",
       "\n",
       "\n",
       "mpl.figure.prototype._root_extra_style = function(canvas_div) {\n",
       "\n",
       "}\n",
       "\n",
       "mpl.figure.prototype._init_canvas = function() {\n",
       "    var fig = this;\n",
       "\n",
       "    var canvas_div = $('<div/>');\n",
       "\n",
       "    canvas_div.attr('style', 'position: relative; clear: both; outline: 0');\n",
       "\n",
       "    function canvas_keyboard_event(event) {\n",
       "        return fig.key_event(event, event['data']);\n",
       "    }\n",
       "\n",
       "    canvas_div.keydown('key_press', canvas_keyboard_event);\n",
       "    canvas_div.keyup('key_release', canvas_keyboard_event);\n",
       "    this.canvas_div = canvas_div\n",
       "    this._canvas_extra_style(canvas_div)\n",
       "    this.root.append(canvas_div);\n",
       "\n",
       "    var canvas = $('<canvas/>');\n",
       "    canvas.addClass('mpl-canvas');\n",
       "    canvas.attr('style', \"left: 0; top: 0; z-index: 0; outline: 0\")\n",
       "\n",
       "    this.canvas = canvas[0];\n",
       "    this.context = canvas[0].getContext(\"2d\");\n",
       "\n",
       "    var rubberband = $('<canvas/>');\n",
       "    rubberband.attr('style', \"position: absolute; left: 0; top: 0; z-index: 1;\")\n",
       "\n",
       "    var pass_mouse_events = true;\n",
       "\n",
       "    canvas_div.resizable({\n",
       "        start: function(event, ui) {\n",
       "            pass_mouse_events = false;\n",
       "        },\n",
       "        resize: function(event, ui) {\n",
       "            fig.request_resize(ui.size.width, ui.size.height);\n",
       "        },\n",
       "        stop: function(event, ui) {\n",
       "            pass_mouse_events = true;\n",
       "            fig.request_resize(ui.size.width, ui.size.height);\n",
       "        },\n",
       "    });\n",
       "\n",
       "    function mouse_event_fn(event) {\n",
       "        if (pass_mouse_events)\n",
       "            return fig.mouse_event(event, event['data']);\n",
       "    }\n",
       "\n",
       "    rubberband.mousedown('button_press', mouse_event_fn);\n",
       "    rubberband.mouseup('button_release', mouse_event_fn);\n",
       "    // Throttle sequential mouse events to 1 every 20ms.\n",
       "    rubberband.mousemove('motion_notify', mouse_event_fn);\n",
       "\n",
       "    rubberband.mouseenter('figure_enter', mouse_event_fn);\n",
       "    rubberband.mouseleave('figure_leave', mouse_event_fn);\n",
       "\n",
       "    canvas_div.on(\"wheel\", function (event) {\n",
       "        event = event.originalEvent;\n",
       "        event['data'] = 'scroll'\n",
       "        if (event.deltaY < 0) {\n",
       "            event.step = 1;\n",
       "        } else {\n",
       "            event.step = -1;\n",
       "        }\n",
       "        mouse_event_fn(event);\n",
       "    });\n",
       "\n",
       "    canvas_div.append(canvas);\n",
       "    canvas_div.append(rubberband);\n",
       "\n",
       "    this.rubberband = rubberband;\n",
       "    this.rubberband_canvas = rubberband[0];\n",
       "    this.rubberband_context = rubberband[0].getContext(\"2d\");\n",
       "    this.rubberband_context.strokeStyle = \"#000000\";\n",
       "\n",
       "    this._resize_canvas = function(width, height) {\n",
       "        // Keep the size of the canvas, canvas container, and rubber band\n",
       "        // canvas in synch.\n",
       "        canvas_div.css('width', width)\n",
       "        canvas_div.css('height', height)\n",
       "\n",
       "        canvas.attr('width', width);\n",
       "        canvas.attr('height', height);\n",
       "\n",
       "        rubberband.attr('width', width);\n",
       "        rubberband.attr('height', height);\n",
       "    }\n",
       "\n",
       "    // Set the figure to an initial 600x600px, this will subsequently be updated\n",
       "    // upon first draw.\n",
       "    this._resize_canvas(600, 600);\n",
       "\n",
       "    // Disable right mouse context menu.\n",
       "    $(this.rubberband_canvas).bind(\"contextmenu\",function(e){\n",
       "        return false;\n",
       "    });\n",
       "\n",
       "    function set_focus () {\n",
       "        canvas.focus();\n",
       "        canvas_div.focus();\n",
       "    }\n",
       "\n",
       "    window.setTimeout(set_focus, 100);\n",
       "}\n",
       "\n",
       "mpl.figure.prototype._init_toolbar = function() {\n",
       "    var fig = this;\n",
       "\n",
       "    var nav_element = $('<div/>')\n",
       "    nav_element.attr('style', 'width: 100%');\n",
       "    this.root.append(nav_element);\n",
       "\n",
       "    // Define a callback function for later on.\n",
       "    function toolbar_event(event) {\n",
       "        return fig.toolbar_button_onclick(event['data']);\n",
       "    }\n",
       "    function toolbar_mouse_event(event) {\n",
       "        return fig.toolbar_button_onmouseover(event['data']);\n",
       "    }\n",
       "\n",
       "    for(var toolbar_ind in mpl.toolbar_items) {\n",
       "        var name = mpl.toolbar_items[toolbar_ind][0];\n",
       "        var tooltip = mpl.toolbar_items[toolbar_ind][1];\n",
       "        var image = mpl.toolbar_items[toolbar_ind][2];\n",
       "        var method_name = mpl.toolbar_items[toolbar_ind][3];\n",
       "\n",
       "        if (!name) {\n",
       "            // put a spacer in here.\n",
       "            continue;\n",
       "        }\n",
       "        var button = $('<button/>');\n",
       "        button.addClass('ui-button ui-widget ui-state-default ui-corner-all ' +\n",
       "                        'ui-button-icon-only');\n",
       "        button.attr('role', 'button');\n",
       "        button.attr('aria-disabled', 'false');\n",
       "        button.click(method_name, toolbar_event);\n",
       "        button.mouseover(tooltip, toolbar_mouse_event);\n",
       "\n",
       "        var icon_img = $('<span/>');\n",
       "        icon_img.addClass('ui-button-icon-primary ui-icon');\n",
       "        icon_img.addClass(image);\n",
       "        icon_img.addClass('ui-corner-all');\n",
       "\n",
       "        var tooltip_span = $('<span/>');\n",
       "        tooltip_span.addClass('ui-button-text');\n",
       "        tooltip_span.html(tooltip);\n",
       "\n",
       "        button.append(icon_img);\n",
       "        button.append(tooltip_span);\n",
       "\n",
       "        nav_element.append(button);\n",
       "    }\n",
       "\n",
       "    var fmt_picker_span = $('<span/>');\n",
       "\n",
       "    var fmt_picker = $('<select/>');\n",
       "    fmt_picker.addClass('mpl-toolbar-option ui-widget ui-widget-content');\n",
       "    fmt_picker_span.append(fmt_picker);\n",
       "    nav_element.append(fmt_picker_span);\n",
       "    this.format_dropdown = fmt_picker[0];\n",
       "\n",
       "    for (var ind in mpl.extensions) {\n",
       "        var fmt = mpl.extensions[ind];\n",
       "        var option = $(\n",
       "            '<option/>', {selected: fmt === mpl.default_extension}).html(fmt);\n",
       "        fmt_picker.append(option)\n",
       "    }\n",
       "\n",
       "    // Add hover states to the ui-buttons\n",
       "    $( \".ui-button\" ).hover(\n",
       "        function() { $(this).addClass(\"ui-state-hover\");},\n",
       "        function() { $(this).removeClass(\"ui-state-hover\");}\n",
       "    );\n",
       "\n",
       "    var status_bar = $('<span class=\"mpl-message\"/>');\n",
       "    nav_element.append(status_bar);\n",
       "    this.message = status_bar[0];\n",
       "}\n",
       "\n",
       "mpl.figure.prototype.request_resize = function(x_pixels, y_pixels) {\n",
       "    // Request matplotlib to resize the figure. Matplotlib will then trigger a resize in the client,\n",
       "    // which will in turn request a refresh of the image.\n",
       "    this.send_message('resize', {'width': x_pixels, 'height': y_pixels});\n",
       "}\n",
       "\n",
       "mpl.figure.prototype.send_message = function(type, properties) {\n",
       "    properties['type'] = type;\n",
       "    properties['figure_id'] = this.id;\n",
       "    this.ws.send(JSON.stringify(properties));\n",
       "}\n",
       "\n",
       "mpl.figure.prototype.send_draw_message = function() {\n",
       "    if (!this.waiting) {\n",
       "        this.waiting = true;\n",
       "        this.ws.send(JSON.stringify({type: \"draw\", figure_id: this.id}));\n",
       "    }\n",
       "}\n",
       "\n",
       "\n",
       "mpl.figure.prototype.handle_save = function(fig, msg) {\n",
       "    var format_dropdown = fig.format_dropdown;\n",
       "    var format = format_dropdown.options[format_dropdown.selectedIndex].value;\n",
       "    fig.ondownload(fig, format);\n",
       "}\n",
       "\n",
       "\n",
       "mpl.figure.prototype.handle_resize = function(fig, msg) {\n",
       "    var size = msg['size'];\n",
       "    if (size[0] != fig.canvas.width || size[1] != fig.canvas.height) {\n",
       "        fig._resize_canvas(size[0], size[1]);\n",
       "        fig.send_message(\"refresh\", {});\n",
       "    };\n",
       "}\n",
       "\n",
       "mpl.figure.prototype.handle_rubberband = function(fig, msg) {\n",
       "    var x0 = msg['x0'];\n",
       "    var y0 = fig.canvas.height - msg['y0'];\n",
       "    var x1 = msg['x1'];\n",
       "    var y1 = fig.canvas.height - msg['y1'];\n",
       "    x0 = Math.floor(x0) + 0.5;\n",
       "    y0 = Math.floor(y0) + 0.5;\n",
       "    x1 = Math.floor(x1) + 0.5;\n",
       "    y1 = Math.floor(y1) + 0.5;\n",
       "    var min_x = Math.min(x0, x1);\n",
       "    var min_y = Math.min(y0, y1);\n",
       "    var width = Math.abs(x1 - x0);\n",
       "    var height = Math.abs(y1 - y0);\n",
       "\n",
       "    fig.rubberband_context.clearRect(\n",
       "        0, 0, fig.canvas.width, fig.canvas.height);\n",
       "\n",
       "    fig.rubberband_context.strokeRect(min_x, min_y, width, height);\n",
       "}\n",
       "\n",
       "mpl.figure.prototype.handle_figure_label = function(fig, msg) {\n",
       "    // Updates the figure title.\n",
       "    fig.header.textContent = msg['label'];\n",
       "}\n",
       "\n",
       "mpl.figure.prototype.handle_cursor = function(fig, msg) {\n",
       "    var cursor = msg['cursor'];\n",
       "    switch(cursor)\n",
       "    {\n",
       "    case 0:\n",
       "        cursor = 'pointer';\n",
       "        break;\n",
       "    case 1:\n",
       "        cursor = 'default';\n",
       "        break;\n",
       "    case 2:\n",
       "        cursor = 'crosshair';\n",
       "        break;\n",
       "    case 3:\n",
       "        cursor = 'move';\n",
       "        break;\n",
       "    }\n",
       "    fig.rubberband_canvas.style.cursor = cursor;\n",
       "}\n",
       "\n",
       "mpl.figure.prototype.handle_message = function(fig, msg) {\n",
       "    fig.message.textContent = msg['message'];\n",
       "}\n",
       "\n",
       "mpl.figure.prototype.handle_draw = function(fig, msg) {\n",
       "    // Request the server to send over a new figure.\n",
       "    fig.send_draw_message();\n",
       "}\n",
       "\n",
       "mpl.figure.prototype.handle_image_mode = function(fig, msg) {\n",
       "    fig.image_mode = msg['mode'];\n",
       "}\n",
       "\n",
       "mpl.figure.prototype.updated_canvas_event = function() {\n",
       "    // Called whenever the canvas gets updated.\n",
       "    this.send_message(\"ack\", {});\n",
       "}\n",
       "\n",
       "// A function to construct a web socket function for onmessage handling.\n",
       "// Called in the figure constructor.\n",
       "mpl.figure.prototype._make_on_message_function = function(fig) {\n",
       "    return function socket_on_message(evt) {\n",
       "        if (evt.data instanceof Blob) {\n",
       "            /* FIXME: We get \"Resource interpreted as Image but\n",
       "             * transferred with MIME type text/plain:\" errors on\n",
       "             * Chrome.  But how to set the MIME type?  It doesn't seem\n",
       "             * to be part of the websocket stream */\n",
       "            evt.data.type = \"image/png\";\n",
       "\n",
       "            /* Free the memory for the previous frames */\n",
       "            if (fig.imageObj.src) {\n",
       "                (window.URL || window.webkitURL).revokeObjectURL(\n",
       "                    fig.imageObj.src);\n",
       "            }\n",
       "\n",
       "            fig.imageObj.src = (window.URL || window.webkitURL).createObjectURL(\n",
       "                evt.data);\n",
       "            fig.updated_canvas_event();\n",
       "            return;\n",
       "        }\n",
       "        else if (typeof evt.data === 'string' && evt.data.slice(0, 21) == \"data:image/png;base64\") {\n",
       "            fig.imageObj.src = evt.data;\n",
       "            fig.updated_canvas_event();\n",
       "            return;\n",
       "        }\n",
       "\n",
       "        var msg = JSON.parse(evt.data);\n",
       "        var msg_type = msg['type'];\n",
       "\n",
       "        // Call the  \"handle_{type}\" callback, which takes\n",
       "        // the figure and JSON message as its only arguments.\n",
       "        try {\n",
       "            var callback = fig[\"handle_\" + msg_type];\n",
       "        } catch (e) {\n",
       "            console.log(\"No handler for the '\" + msg_type + \"' message type: \", msg);\n",
       "            return;\n",
       "        }\n",
       "\n",
       "        if (callback) {\n",
       "            try {\n",
       "                // console.log(\"Handling '\" + msg_type + \"' message: \", msg);\n",
       "                callback(fig, msg);\n",
       "            } catch (e) {\n",
       "                console.log(\"Exception inside the 'handler_\" + msg_type + \"' callback:\", e, e.stack, msg);\n",
       "            }\n",
       "        }\n",
       "    };\n",
       "}\n",
       "\n",
       "// from http://stackoverflow.com/questions/1114465/getting-mouse-location-in-canvas\n",
       "mpl.findpos = function(e) {\n",
       "    //this section is from http://www.quirksmode.org/js/events_properties.html\n",
       "    var targ;\n",
       "    if (!e)\n",
       "        e = window.event;\n",
       "    if (e.target)\n",
       "        targ = e.target;\n",
       "    else if (e.srcElement)\n",
       "        targ = e.srcElement;\n",
       "    if (targ.nodeType == 3) // defeat Safari bug\n",
       "        targ = targ.parentNode;\n",
       "\n",
       "    // jQuery normalizes the pageX and pageY\n",
       "    // pageX,Y are the mouse positions relative to the document\n",
       "    // offset() returns the position of the element relative to the document\n",
       "    var x = e.pageX - $(targ).offset().left;\n",
       "    var y = e.pageY - $(targ).offset().top;\n",
       "\n",
       "    return {\"x\": x, \"y\": y};\n",
       "};\n",
       "\n",
       "mpl.figure.prototype.mouse_event = function(event, name) {\n",
       "    var canvas_pos = mpl.findpos(event)\n",
       "\n",
       "    if (name === 'button_press')\n",
       "    {\n",
       "        this.canvas.focus();\n",
       "        this.canvas_div.focus();\n",
       "    }\n",
       "\n",
       "    var x = canvas_pos.x;\n",
       "    var y = canvas_pos.y;\n",
       "\n",
       "    this.send_message(name, {x: x, y: y, button: event.button,\n",
       "                             step: event.step});\n",
       "\n",
       "    /* This prevents the web browser from automatically changing to\n",
       "     * the text insertion cursor when the button is pressed.  We want\n",
       "     * to control all of the cursor setting manually through the\n",
       "     * 'cursor' event from matplotlib */\n",
       "    event.preventDefault();\n",
       "    return false;\n",
       "}\n",
       "\n",
       "mpl.figure.prototype._key_event_extra = function(event, name) {\n",
       "    // Handle any extra behaviour associated with a key event\n",
       "}\n",
       "\n",
       "mpl.figure.prototype.key_event = function(event, name) {\n",
       "\n",
       "    // Prevent repeat events\n",
       "    if (name == 'key_press')\n",
       "    {\n",
       "        if (event.which === this._key)\n",
       "            return;\n",
       "        else\n",
       "            this._key = event.which;\n",
       "    }\n",
       "    if (name == 'key_release')\n",
       "        this._key = null;\n",
       "\n",
       "    var value = '';\n",
       "    if (event.ctrlKey && event.which != 17)\n",
       "        value += \"ctrl+\";\n",
       "    if (event.altKey && event.which != 18)\n",
       "        value += \"alt+\";\n",
       "    if (event.shiftKey && event.which != 16)\n",
       "        value += \"shift+\";\n",
       "\n",
       "    value += 'k';\n",
       "    value += event.which.toString();\n",
       "\n",
       "    this._key_event_extra(event, name);\n",
       "\n",
       "    this.send_message(name, {key: value});\n",
       "    return false;\n",
       "}\n",
       "\n",
       "mpl.figure.prototype.toolbar_button_onclick = function(name) {\n",
       "    if (name == 'download') {\n",
       "        this.handle_save(this, null);\n",
       "    } else {\n",
       "        this.send_message(\"toolbar_button\", {name: name});\n",
       "    }\n",
       "};\n",
       "\n",
       "mpl.figure.prototype.toolbar_button_onmouseover = function(tooltip) {\n",
       "    this.message.textContent = tooltip;\n",
       "};\n",
       "mpl.toolbar_items = [[\"Home\", \"Reset original view\", \"fa fa-home icon-home\", \"home\"], [\"Back\", \"Back to  previous view\", \"fa fa-arrow-left icon-arrow-left\", \"back\"], [\"Forward\", \"Forward to next view\", \"fa fa-arrow-right icon-arrow-right\", \"forward\"], [\"\", \"\", \"\", \"\"], [\"Pan\", \"Pan axes with left mouse, zoom with right\", \"fa fa-arrows icon-move\", \"pan\"], [\"Zoom\", \"Zoom to rectangle\", \"fa fa-square-o icon-check-empty\", \"zoom\"], [\"\", \"\", \"\", \"\"], [\"Download\", \"Download plot\", \"fa fa-floppy-o icon-save\", \"download\"]];\n",
       "\n",
       "mpl.extensions = [\"eps\", \"jpeg\", \"pdf\", \"png\", \"ps\", \"raw\", \"svg\", \"tif\"];\n",
       "\n",
       "mpl.default_extension = \"png\";var comm_websocket_adapter = function(comm) {\n",
       "    // Create a \"websocket\"-like object which calls the given IPython comm\n",
       "    // object with the appropriate methods. Currently this is a non binary\n",
       "    // socket, so there is still some room for performance tuning.\n",
       "    var ws = {};\n",
       "\n",
       "    ws.close = function() {\n",
       "        comm.close()\n",
       "    };\n",
       "    ws.send = function(m) {\n",
       "        //console.log('sending', m);\n",
       "        comm.send(m);\n",
       "    };\n",
       "    // Register the callback with on_msg.\n",
       "    comm.on_msg(function(msg) {\n",
       "        //console.log('receiving', msg['content']['data'], msg);\n",
       "        // Pass the mpl event to the overriden (by mpl) onmessage function.\n",
       "        ws.onmessage(msg['content']['data'])\n",
       "    });\n",
       "    return ws;\n",
       "}\n",
       "\n",
       "mpl.mpl_figure_comm = function(comm, msg) {\n",
       "    // This is the function which gets called when the mpl process\n",
       "    // starts-up an IPython Comm through the \"matplotlib\" channel.\n",
       "\n",
       "    var id = msg.content.data.id;\n",
       "    // Get hold of the div created by the display call when the Comm\n",
       "    // socket was opened in Python.\n",
       "    var element = $(\"#\" + id);\n",
       "    var ws_proxy = comm_websocket_adapter(comm)\n",
       "\n",
       "    function ondownload(figure, format) {\n",
       "        window.open(figure.imageObj.src);\n",
       "    }\n",
       "\n",
       "    var fig = new mpl.figure(id, ws_proxy,\n",
       "                           ondownload,\n",
       "                           element.get(0));\n",
       "\n",
       "    // Call onopen now - mpl needs it, as it is assuming we've passed it a real\n",
       "    // web socket which is closed, not our websocket->open comm proxy.\n",
       "    ws_proxy.onopen();\n",
       "\n",
       "    fig.parent_element = element.get(0);\n",
       "    fig.cell_info = mpl.find_output_cell(\"<div id='\" + id + \"'></div>\");\n",
       "    if (!fig.cell_info) {\n",
       "        console.error(\"Failed to find cell for figure\", id, fig);\n",
       "        return;\n",
       "    }\n",
       "\n",
       "    var output_index = fig.cell_info[2]\n",
       "    var cell = fig.cell_info[0];\n",
       "\n",
       "};\n",
       "\n",
       "mpl.figure.prototype.handle_close = function(fig, msg) {\n",
       "    // Update the output cell to use the data from the current canvas.\n",
       "    fig.push_to_output();\n",
       "    var dataURL = fig.canvas.toDataURL();\n",
       "    // Re-enable the keyboard manager in IPython - without this line, in FF,\n",
       "    // the notebook keyboard shortcuts fail.\n",
       "    IPython.keyboard_manager.enable()\n",
       "    $(fig.parent_element).html('<img src=\"' + dataURL + '\">');\n",
       "    fig.send_message('closing', {});\n",
       "    fig.ws.close()\n",
       "}\n",
       "\n",
       "mpl.figure.prototype.push_to_output = function(remove_interactive) {\n",
       "    // Turn the data on the canvas into data in the output cell.\n",
       "    var dataURL = this.canvas.toDataURL();\n",
       "    this.cell_info[1]['text/html'] = '<img src=\"' + dataURL + '\">';\n",
       "}\n",
       "\n",
       "mpl.figure.prototype.updated_canvas_event = function() {\n",
       "    // Tell IPython that the notebook contents must change.\n",
       "    IPython.notebook.set_dirty(true);\n",
       "    this.send_message(\"ack\", {});\n",
       "    var fig = this;\n",
       "    // Wait a second, then push the new image to the DOM so\n",
       "    // that it is saved nicely (might be nice to debounce this).\n",
       "    setTimeout(function () { fig.push_to_output() }, 1000);\n",
       "}\n",
       "\n",
       "mpl.figure.prototype._init_toolbar = function() {\n",
       "    var fig = this;\n",
       "\n",
       "    var nav_element = $('<div/>')\n",
       "    nav_element.attr('style', 'width: 100%');\n",
       "    this.root.append(nav_element);\n",
       "\n",
       "    // Define a callback function for later on.\n",
       "    function toolbar_event(event) {\n",
       "        return fig.toolbar_button_onclick(event['data']);\n",
       "    }\n",
       "    function toolbar_mouse_event(event) {\n",
       "        return fig.toolbar_button_onmouseover(event['data']);\n",
       "    }\n",
       "\n",
       "    for(var toolbar_ind in mpl.toolbar_items){\n",
       "        var name = mpl.toolbar_items[toolbar_ind][0];\n",
       "        var tooltip = mpl.toolbar_items[toolbar_ind][1];\n",
       "        var image = mpl.toolbar_items[toolbar_ind][2];\n",
       "        var method_name = mpl.toolbar_items[toolbar_ind][3];\n",
       "\n",
       "        if (!name) { continue; };\n",
       "\n",
       "        var button = $('<button class=\"btn btn-default\" href=\"#\" title=\"' + name + '\"><i class=\"fa ' + image + ' fa-lg\"></i></button>');\n",
       "        button.click(method_name, toolbar_event);\n",
       "        button.mouseover(tooltip, toolbar_mouse_event);\n",
       "        nav_element.append(button);\n",
       "    }\n",
       "\n",
       "    // Add the status bar.\n",
       "    var status_bar = $('<span class=\"mpl-message\" style=\"text-align:right; float: right;\"/>');\n",
       "    nav_element.append(status_bar);\n",
       "    this.message = status_bar[0];\n",
       "\n",
       "    // Add the close button to the window.\n",
       "    var buttongrp = $('<div class=\"btn-group inline pull-right\"></div>');\n",
       "    var button = $('<button class=\"btn btn-mini btn-danger\" href=\"#\" title=\"Close figure\"><i class=\"fa fa-times icon-remove icon-large\"></i></button>');\n",
       "    button.click(function (evt) { fig.handle_close(fig, {}); } );\n",
       "    button.mouseover('Close figure', toolbar_mouse_event);\n",
       "    buttongrp.append(button);\n",
       "    var titlebar = this.root.find($('.ui-dialog-titlebar'));\n",
       "    titlebar.prepend(buttongrp);\n",
       "}\n",
       "\n",
       "\n",
       "mpl.figure.prototype._canvas_extra_style = function(el){\n",
       "    // this is important to make the div 'focusable\n",
       "    el.attr('tabindex', 0)\n",
       "    // reach out to IPython and tell the keyboard manager to turn it's self\n",
       "    // off when our div gets focus\n",
       "\n",
       "    // location in version 3\n",
       "    if (IPython.notebook.keyboard_manager) {\n",
       "        IPython.notebook.keyboard_manager.register_events(el);\n",
       "    }\n",
       "    else {\n",
       "        // location in version 2\n",
       "        IPython.keyboard_manager.register_events(el);\n",
       "    }\n",
       "\n",
       "}\n",
       "\n",
       "mpl.figure.prototype._key_event_extra = function(event, name) {\n",
       "    var manager = IPython.notebook.keyboard_manager;\n",
       "    if (!manager)\n",
       "        manager = IPython.keyboard_manager;\n",
       "\n",
       "    // Check for shift+enter\n",
       "    if (event.shiftKey && event.which == 13) {\n",
       "        this.canvas_div.blur();\n",
       "        event.shiftKey = false;\n",
       "        // Send a \"J\" for go to next cell\n",
       "        event.which = 74;\n",
       "        event.keyCode = 74;\n",
       "        manager.command_mode();\n",
       "        manager.handle_keydown(event);\n",
       "    }\n",
       "}\n",
       "\n",
       "mpl.figure.prototype.handle_save = function(fig, msg) {\n",
       "    fig.ondownload(fig, null);\n",
       "}\n",
       "\n",
       "\n",
       "mpl.find_output_cell = function(html_output) {\n",
       "    // Return the cell and output element which can be found *uniquely* in the notebook.\n",
       "    // Note - this is a bit hacky, but it is done because the \"notebook_saving.Notebook\"\n",
       "    // IPython event is triggered only after the cells have been serialised, which for\n",
       "    // our purposes (turning an active figure into a static one), is too late.\n",
       "    var cells = IPython.notebook.get_cells();\n",
       "    var ncells = cells.length;\n",
       "    for (var i=0; i<ncells; i++) {\n",
       "        var cell = cells[i];\n",
       "        if (cell.cell_type === 'code'){\n",
       "            for (var j=0; j<cell.output_area.outputs.length; j++) {\n",
       "                var data = cell.output_area.outputs[j];\n",
       "                if (data.data) {\n",
       "                    // IPython >= 3 moved mimebundle to data attribute of output\n",
       "                    data = data.data;\n",
       "                }\n",
       "                if (data['text/html'] == html_output) {\n",
       "                    return [cell, data, j];\n",
       "                }\n",
       "            }\n",
       "        }\n",
       "    }\n",
       "}\n",
       "\n",
       "// Register the function which deals with the matplotlib target/channel.\n",
       "// The kernel may be null if the page has been refreshed.\n",
       "if (IPython.notebook.kernel != null) {\n",
       "    IPython.notebook.kernel.comm_manager.register_target('matplotlib', mpl.mpl_figure_comm);\n",
       "}\n"
      ],
      "text/plain": [
       "<IPython.core.display.Javascript object>"
      ]
     },
     "metadata": {},
     "output_type": "display_data"
    },
    {
     "data": {
      "text/html": [
       "<img src=\"data:image/png;base64,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\">"
      ],
      "text/plain": [
       "<IPython.core.display.HTML object>"
      ]
     },
     "metadata": {},
     "output_type": "display_data"
    }
   ],
   "source": [
    "from mpl_toolkits.basemap import Basemap\n",
    "import matplotlib.pyplot as plt\n",
    "import numpy as np\n",
    "%matplotlib nbagg\n",
    "my_map2 = Basemap(llcrnrlon=-125, llcrnrlat=45, urcrnrlon=-115, urcrnrlat=51, projection='tmerc', lat_1=33, lat_2=45,\n",
    "     lon_0=-119, lat_0=45, resolution='h', area_thresh=10000)\n",
    "my_map2.drawcoastlines()\n",
    "my_map2.drawcountries()\n",
    "my_map2.fillcontinents(color='coral')\n",
    "lon2 = np.array(walandslides.POINT_X)\n",
    "lat2 = np.array(walandslides.POINT_Y)\n",
    "y2,x2 = my_map2(lon2, lat2)\n",
    "my_map2.plot(y2,x2, 'ro', markersize=4, markeredgecolor = 'k')\n",
    "plt.show()"
   ]
  },
  {
   "cell_type": "markdown",
   "metadata": {
    "slideshow": {
     "slide_type": "slide"
    }
   },
   "source": [
    "## Final X and y - reduced to a size of 12241 observations"
   ]
  },
  {
   "cell_type": "code",
   "execution_count": 118,
   "metadata": {
    "collapsed": true,
    "slideshow": {
     "slide_type": "fragment"
    }
   },
   "outputs": [],
   "source": [
    "walandslides['LAND_USE'] = walandslides.LAND_USE.map({'Forestry related activities':0, 'Undisturbed':1, 'Unknown':2, 'Urban development':3, 'Road, railroad, trail':4})"
   ]
  },
  {
   "cell_type": "code",
   "execution_count": 119,
   "metadata": {
    "collapsed": false,
    "slideshow": {
     "slide_type": "fragment"
    }
   },
   "outputs": [
    {
     "data": {
      "text/html": [
       "<div>\n",
       "<table border=\"1\" class=\"dataframe\">\n",
       "  <thead>\n",
       "    <tr style=\"text-align: right;\">\n",
       "      <th></th>\n",
       "      <th>gradient_cat</th>\n",
       "      <th>GEOLOGIC_1</th>\n",
       "      <th>reacch_soi</th>\n",
       "      <th>LAND_USE</th>\n",
       "      <th>LANDSLIDE1</th>\n",
       "      <th>SLOPE_MORP</th>\n",
       "    </tr>\n",
       "  </thead>\n",
       "  <tbody>\n",
       "    <tr>\n",
       "      <th>1</th>\n",
       "      <td>3</td>\n",
       "      <td>29787</td>\n",
       "      <td>55856</td>\n",
       "      <td>4</td>\n",
       "      <td>12</td>\n",
       "      <td>0</td>\n",
       "    </tr>\n",
       "    <tr>\n",
       "      <th>2</th>\n",
       "      <td>5</td>\n",
       "      <td>33552</td>\n",
       "      <td>55805</td>\n",
       "      <td>4</td>\n",
       "      <td>3</td>\n",
       "      <td>4</td>\n",
       "    </tr>\n",
       "    <tr>\n",
       "      <th>4</th>\n",
       "      <td>1</td>\n",
       "      <td>32784</td>\n",
       "      <td>55804</td>\n",
       "      <td>4</td>\n",
       "      <td>12</td>\n",
       "      <td>0</td>\n",
       "    </tr>\n",
       "    <tr>\n",
       "      <th>5</th>\n",
       "      <td>4</td>\n",
       "      <td>30800</td>\n",
       "      <td>55837</td>\n",
       "      <td>4</td>\n",
       "      <td>3</td>\n",
       "      <td>0</td>\n",
       "    </tr>\n",
       "    <tr>\n",
       "      <th>6</th>\n",
       "      <td>3</td>\n",
       "      <td>30800</td>\n",
       "      <td>55837</td>\n",
       "      <td>3</td>\n",
       "      <td>12</td>\n",
       "      <td>0</td>\n",
       "    </tr>\n",
       "  </tbody>\n",
       "</table>\n",
       "</div>"
      ],
      "text/plain": [
       "  gradient_cat  GEOLOGIC_1  reacch_soi  LAND_USE  LANDSLIDE1  SLOPE_MORP\n",
       "1            3       29787       55856         4          12           0\n",
       "2            5       33552       55805         4           3           4\n",
       "4            1       32784       55804         4          12           0\n",
       "5            4       30800       55837         4           3           0\n",
       "6            3       30800       55837         3          12           0"
      ]
     },
     "execution_count": 119,
     "metadata": {},
     "output_type": "execute_result"
    }
   ],
   "source": [
    "X = walandslides[feature_cols]\n",
    "y = walandslides.LANDSLID_3\n",
    "y = pd.concat([y], axis=1)\n",
    "X[:5]"
   ]
  },
  {
   "cell_type": "markdown",
   "metadata": {
    "slideshow": {
     "slide_type": "slide"
    }
   },
   "source": [
    "### Response Variable - LANDSLID_3 - Landslide severity (0=Low, 1=Med, 3=High)"
   ]
  },
  {
   "cell_type": "code",
   "execution_count": 120,
   "metadata": {
    "collapsed": false,
    "slideshow": {
     "slide_type": "fragment"
    }
   },
   "outputs": [
    {
     "data": {
      "text/plain": [
       "2    7501\n",
       "1    3806\n",
       "0     934\n",
       "dtype: int64"
      ]
     },
     "execution_count": 120,
     "metadata": {},
     "output_type": "execute_result"
    }
   ],
   "source": [
    "landslid3_pd = y['LANDSLID_3'].value_counts()\n",
    "y['LANDSLID_3'].value_counts()"
   ]
  },
  {
   "cell_type": "markdown",
   "metadata": {
    "slideshow": {
     "slide_type": "skip"
    }
   },
   "source": [
    "## run train test split"
   ]
  },
  {
   "cell_type": "code",
   "execution_count": 122,
   "metadata": {
    "collapsed": false,
    "slideshow": {
     "slide_type": "skip"
    }
   },
   "outputs": [],
   "source": [
    "X_train, X_test, y_train, y_test = train_test_split(X, y, random_state=99)"
   ]
  },
  {
   "cell_type": "markdown",
   "metadata": {
    "slideshow": {
     "slide_type": "slide"
    }
   },
   "source": [
    "## Begin Model analysis"
   ]
  },
  {
   "cell_type": "markdown",
   "metadata": {
    "slideshow": {
     "slide_type": "fragment"
    }
   },
   "source": [
    "### Calculate Null Accuracy"
   ]
  },
  {
   "cell_type": "code",
   "execution_count": 93,
   "metadata": {
    "collapsed": false,
    "slideshow": {
     "slide_type": "fragment"
    }
   },
   "outputs": [
    {
     "name": "stdout",
     "output_type": "stream",
     "text": [
      "The slowest run took 578.46 times longer than the fastest. This could mean that an intermediate result is being cached \n",
      "10000000 loops, best of 3: 29.7 ns per loop\n",
      "2    0.613198\n",
      "dtype: float64\n",
      "1.91505408287\n"
     ]
    }
   ],
   "source": [
    "import time\n",
    "start = time.time()\n",
    "\n",
    "nulltime1 = %%timeit -o 1 + 2\n",
    "null = y_test['LANDSLID_3'].value_counts().head(1) / len(y_test['LANDSLID_3'])\n",
    "print null\n",
    "\n",
    "end = time.time()\n",
    "nulltime1 = end - start\n",
    "print nulltime1"
   ]
  },
  {
   "cell_type": "markdown",
   "metadata": {
    "slideshow": {
     "slide_type": "slide"
    }
   },
   "source": [
    "## 10-fold cross-validation with Bagged Random Forest\n"
   ]
  },
  {
   "cell_type": "code",
   "execution_count": 94,
   "metadata": {
    "collapsed": false,
    "slideshow": {
     "slide_type": "fragment"
    }
   },
   "outputs": [],
   "source": [
    "y = np.ravel(y)"
   ]
  },
  {
   "cell_type": "code",
   "execution_count": 95,
   "metadata": {
    "collapsed": false
   },
   "outputs": [
    {
     "name": "stdout",
     "output_type": "stream",
     "text": [
      "110.357401848\n"
     ]
    }
   ],
   "source": [
    "import time\n",
    "start = time.time()\n",
    "\n",
    "rfreg = RandomForestClassifier(n_estimators=20, max_features=4, oob_score=True, random_state=1)\n",
    "rfreg.fit(X, y)\n",
    "\n",
    "bagrf = BaggingClassifier(rfreg, n_estimators=20, max_samples=10000, max_features=6, bootstrap = False, bootstrap_features = True, random_state=42)\n",
    "bagrf.fit(X, y)\n",
    "bagrf_scores_mean = cross_val_score(bagrf, X, y, cv=KFold(X.shape[0], n_folds=10, shuffle=True), scoring='accuracy').mean()\n",
    "\n",
    "end = time.time()\n",
    "bagrftime1 = end - start\n",
    "print bagrftime1"
   ]
  },
  {
   "cell_type": "code",
   "execution_count": 96,
   "metadata": {
    "collapsed": false
   },
   "outputs": [
    {
     "name": "stdout",
     "output_type": "stream",
     "text": [
      "0.768075363479\n"
     ]
    }
   ],
   "source": [
    "print bagrf_scores_mean"
   ]
  },
  {
   "cell_type": "code",
   "execution_count": 97,
   "metadata": {
    "collapsed": false
   },
   "outputs": [
    {
     "data": {
      "text/plain": [
       "array([ 0.21532174])"
      ]
     },
     "execution_count": 97,
     "metadata": {},
     "output_type": "execute_result"
    }
   ],
   "source": [
    "bagrf.predict_proba([1,2,1,1,100,1])[:, 1]"
   ]
  },
  {
   "cell_type": "code",
   "execution_count": 98,
   "metadata": {
    "collapsed": false
   },
   "outputs": [],
   "source": [
    "import cPickle as pickle\n",
    "pickle.dump(bagrf, open('/git/data/landslides/models/climate-landslide.pkl', 'wb'))"
   ]
  },
  {
   "cell_type": "code",
   "execution_count": 100,
   "metadata": {
    "collapsed": false
   },
   "outputs": [],
   "source": [
    "bagrf_loaded = pickle.load(open('/git/data/landslides/models/climate-landslide.pkl', 'rb'))"
   ]
  },
  {
   "cell_type": "code",
   "execution_count": 103,
   "metadata": {
    "collapsed": false
   },
   "outputs": [],
   "source": [
    "%run climate-landslides-routes.py"
   ]
  },
  {
   "cell_type": "code",
   "execution_count": null,
   "metadata": {
    "collapsed": true
   },
   "outputs": [],
   "source": [
    "url = \"http://129.101.160.58:5000/api\"\n",
    "data = json.dumps({'cool':1, 'useful':8, 'funny':2})\n",
    "r = requests.post(url, data)\n",
    "\n",
    "print r.json()"
   ]
  }
 ],
 "metadata": {
  "celltoolbar": "Slideshow",
  "kernelspec": {
   "display_name": "Python 2",
   "language": "python",
   "name": "python2"
  },
  "language_info": {
   "codemirror_mode": {
    "name": "ipython",
    "version": 2
   },
   "file_extension": ".py",
   "mimetype": "text/x-python",
   "name": "python",
   "nbconvert_exporter": "python",
   "pygments_lexer": "ipython2",
   "version": "2.7.10"
  }
 },
 "nbformat": 4,
 "nbformat_minor": 0
}
