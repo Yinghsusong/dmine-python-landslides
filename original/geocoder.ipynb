{
 "cells": [
  {
   "cell_type": "code",
   "execution_count": 2,
   "metadata": {
    "collapsed": false
   },
   "outputs": [],
   "source": [
    "import urllib\n",
    "import simplejson\n",
    "\n",
    "googleGeocodeUrl = 'http://maps.googleapis.com/maps/api/geocode/json?'\n",
    "\n",
    "def get_coordinates(query, from_sensor=False):\n",
    "    query = query.encode('utf-8')\n",
    "    params = {\n",
    "        'address': query,\n",
    "        'sensor': \"true\" if from_sensor else \"false\"\n",
    "    }\n",
    "    url = googleGeocodeUrl + urllib.urlencode(params)\n",
    "    json_response = urllib.urlopen(url)\n",
    "    response = simplejson.loads(json_response.read())\n",
    "    if response['results']:\n",
    "        location = response['results'][0]['geometry']['location']\n",
    "        latitude, longitude = location['lat'], location['lng']\n",
    "        print query, latitude, longitude\n",
    "    else:\n",
    "        latitude, longitude = None, None\n",
    "        print query, \"<no results>\"\n",
    "    return latitude, longitude"
   ]
  },
  {
   "cell_type": "code",
   "execution_count": 4,
   "metadata": {
    "collapsed": false
   },
   "outputs": [
    {
     "ename": "SyntaxError",
     "evalue": "invalid syntax (<ipython-input-4-c2ba12caff70>, line 1)",
     "output_type": "error",
     "traceback": [
      "\u001b[1;36m  File \u001b[1;32m\"<ipython-input-4-c2ba12caff70>\"\u001b[1;36m, line \u001b[1;32m1\u001b[0m\n\u001b[1;33m    var Demo = {\u001b[0m\n\u001b[1;37m           ^\u001b[0m\n\u001b[1;31mSyntaxError\u001b[0m\u001b[1;31m:\u001b[0m invalid syntax\n"
     ]
    }
   ],
   "source": [
    "    var Demo = {\n",
    "\n",
    "       overlay:null,\n",
    "       map:null,\n",
    "\n",
    "       //callback for route request to DirectionsService\n",
    "       showDirections: function(dirResult, dirStatus) {\n",
    "          //...\n",
    "          //set up overlay\n",
    "          Demo.overlay = new google.maps.OverlayView();\n",
    "          Demo.overlay.draw = function() {};\n",
    "          Demo.overlay.setMap(Demo.map);\n",
    "          //add listener to get x y once map is drawn\n",
    "          google.maps.event.addListener(Demo.map, 'idle', function(){\n",
    "            var proj = Demo.overlay.getProjection();\n",
    "            var xy = proj.fromLatLngToContainerPixel(pos);\n",
    "            //...\n",
    "          });\n",
    "      },\n",
    "\n",
    "    }"
   ]
  },
  {
   "cell_type": "code",
   "execution_count": null,
   "metadata": {
    "collapsed": true
   },
   "outputs": [],
   "source": []
  }
 ],
 "metadata": {
  "kernelspec": {
   "display_name": "Python 2",
   "language": "python",
   "name": "python2"
  },
  "language_info": {
   "codemirror_mode": {
    "name": "ipython",
    "version": 2
   },
   "file_extension": ".py",
   "mimetype": "text/x-python",
   "name": "python",
   "nbconvert_exporter": "python",
   "pygments_lexer": "ipython2",
   "version": "2.7.10"
  }
 },
 "nbformat": 4,
 "nbformat_minor": 0
}
